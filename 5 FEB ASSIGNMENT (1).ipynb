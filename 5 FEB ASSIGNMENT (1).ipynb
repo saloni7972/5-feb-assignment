{
 "cells": [
  {
   "cell_type": "markdown",
   "id": "34d8a340-741b-4479-966f-d445c16d3773",
   "metadata": {},
   "source": [
    "  # 5 FEB ASSIGNMENT"
   ]
  },
  {
   "cell_type": "markdown",
   "id": "3d4e592a-a343-459c-8b48-742c0ce5455c",
   "metadata": {},
   "source": [
    "Q.1 Explain class and object with respect to object-oriented programming. give a suitable example.\n"
   ]
  },
  {
   "cell_type": "markdown",
   "id": "f9500265-22d4-4c4c-8376-53921c31c6e3",
   "metadata": {},
   "source": [
    "class-a class can be defined as a template/blue print that describes the behavior/state that the object of its type support.\n",
    "object-objects have states and behaviors.\n",
    "ex.A man has states - color,name,behaviors-talking, laughing, eating, running  "
   ]
  },
  {
   "cell_type": "markdown",
   "id": "d30eee8b-8896-4e1f-94df-e083fce7a9f0",
   "metadata": {},
   "source": [
    "Q.2 Name the 4 pillars of oops?"
   ]
  },
  {
   "cell_type": "markdown",
   "id": "13bbb8a6-1dcb-4d5e-a4f5-5cbb658c012a",
   "metadata": {},
   "source": [
    "The 4 pillars of oops are  Inheritance, Polymorphism, Encapsulation, Abstraction."
   ]
  },
  {
   "cell_type": "markdown",
   "id": "632dfdc1-01e4-4756-b28a-d0422654a955",
   "metadata": {},
   "source": [
    "Q.3 Explain why the __init__ function is used.Give a suitable example."
   ]
  },
  {
   "cell_type": "markdown",
   "id": "bc9fb019-b1b0-4fef-b53a-de0d83c6eeba",
   "metadata": {},
   "source": [
    "The __init__ function is called every time an object is created from a class. The __init__ method lets the class initialise the objects attribute and serves no other purpose. It is only used within classes.\n",
    "ex. a) class Planet: \n",
    "b) def __init__(self,name,number):\n",
    "c) self.name=name \n",
    "d) self.number=number\n",
    "e) def function(self):"
   ]
  },
  {
   "cell_type": "markdown",
   "id": "0553beb1-423b-45e4-a32b-d66efb8e0494",
   "metadata": {},
   "source": [
    "Q.4 why self is used in oops?"
   ]
  },
  {
   "cell_type": "markdown",
   "id": "644f89ae-80fa-47e3-91fa-a7e5330f2a0f",
   "metadata": {},
   "source": [
    "The self variable is used to represent the instance of the class which is often used in oops. It works as a referance to the object. python uses the self prameter to refer to instance attribute and methods of the class."
   ]
  },
  {
   "cell_type": "markdown",
   "id": "d0a098fd-0f52-4a01-97b8-2c56293e4550",
   "metadata": {},
   "source": [
    "Q.5 What is inheritance? Give an example for each type of inheritance."
   ]
  },
  {
   "cell_type": "markdown",
   "id": "70a10c4e-2dcb-48a6-95a5-dfc343b71a3b",
   "metadata": {},
   "source": [
    "Inheritance is a mechanism in which one class aquires the property of another class.Inheritance is a process of obtaining\n",
    " properties and characteristics of other class.      \n",
    "ex.a) Multiple Inheritance-Parents are the good example. Each child has two parents thats just the way it is.\n",
    "b) Single Inheritance-Dog class inherits the animal class\n",
    "c)Multilevel Inheritance-class c extends class band class b extends class a\n",
    "d) Hierarchical Inheritance- Class b inherits class a and class c inherits class a\n",
    "e) Hybrid Inheritance- Son class inherits father class, father class inherits grand father class."
   ]
  },
  {
   "cell_type": "code",
   "execution_count": null,
   "id": "f6efd36f-d53f-44ee-849f-bbccf4430299",
   "metadata": {},
   "outputs": [],
   "source": [
    "\n"
   ]
  }
 ],
 "metadata": {
  "kernelspec": {
   "display_name": "Python 3 (ipykernel)",
   "language": "python",
   "name": "python3"
  },
  "language_info": {
   "codemirror_mode": {
    "name": "ipython",
    "version": 3
   },
   "file_extension": ".py",
   "mimetype": "text/x-python",
   "name": "python",
   "nbconvert_exporter": "python",
   "pygments_lexer": "ipython3",
   "version": "3.10.8"
  }
 },
 "nbformat": 4,
 "nbformat_minor": 5
}
